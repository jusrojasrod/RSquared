{
 "cells": [
  {
   "cell_type": "code",
   "execution_count": 10,
   "id": "3072d8a6-2394-43dc-8deb-8ae10e0bab60",
   "metadata": {
    "tags": []
   },
   "outputs": [],
   "source": [
    "from RSquared.strategy import Strategy\n",
    "\n",
    "from datetime import date\n",
    "import pandas as pd"
   ]
  },
  {
   "cell_type": "code",
   "execution_count": 2,
   "id": "fe5337c8-32c3-47cb-b839-db331887e9b8",
   "metadata": {
    "tags": []
   },
   "outputs": [
    {
     "name": "stdout",
     "output_type": "stream",
     "text": [
      "End F-F date: 2023-12-06\n",
      "Start F-F date: 2018-12-06\n",
      "--------------------\n",
      "Test passed!\n",
      "End F-F date: 2022-01-01\n",
      "--------------------\n",
      "Test passed!\n",
      "Start F-F date: 2020-01-01\n"
     ]
    }
   ],
   "source": [
    "test1 = Strategy()\n",
    "print(f\"End F-F date: {test1.endFF_date}\")\n",
    "print(f\"Start F-F date: {test1.startFF_date}\")\n",
    "\n",
    "print(\"--\"*10)\n",
    "# Test factors_end_date\n",
    "test1.factors_end_date = date(2022, 1, 1)\n",
    "assert test1.endFF_date == date(2022, 1, 1)\n",
    "print(\"Test passed!\")\n",
    "print(f\"End F-F date: {test1.endFF_date}\")\n",
    "\n",
    "print(\"--\"*10)\n",
    "# Test factors_end_date\n",
    "test1.factors_start_date = date(2020, 1, 1)\n",
    "assert test1.startFF_date == date(2020, 1, 1)\n",
    "print(\"Test passed!\")\n",
    "print(f\"Start F-F date: {test1.startFF_date}\")"
   ]
  },
  {
   "cell_type": "code",
   "execution_count": 18,
   "id": "bcaffc0b-c76a-4d49-bcfe-27dda40aedcd",
   "metadata": {
    "tags": []
   },
   "outputs": [
    {
     "name": "stdout",
     "output_type": "stream",
     "text": [
      "Test passed!\n"
     ]
    }
   ],
   "source": [
    "# Test fama_french_data()\n",
    "test2 = Strategy()\n",
    "assert isinstance(test2.fama_french_data(), pd.DataFrame) == True\n",
    "print(\"Test passed!\")\n",
    "\n",
    "print(\"--\"*10)\n",
    "assert isinstance(test2.ff_data, pd.DataFrame) == True\n",
    "print(\"Test passed!\")"
   ]
  }
 ],
 "metadata": {
  "kernelspec": {
   "display_name": "Python 3 (ipykernel)",
   "language": "python",
   "name": "python3"
  },
  "language_info": {
   "codemirror_mode": {
    "name": "ipython",
    "version": 3
   },
   "file_extension": ".py",
   "mimetype": "text/x-python",
   "name": "python",
   "nbconvert_exporter": "python",
   "pygments_lexer": "ipython3",
   "version": "3.11.5"
  }
 },
 "nbformat": 4,
 "nbformat_minor": 5
}
