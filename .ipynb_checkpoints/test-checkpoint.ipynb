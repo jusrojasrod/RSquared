{
 "cells": [
  {
   "cell_type": "code",
   "execution_count": 1,
   "id": "3072d8a6-2394-43dc-8deb-8ae10e0bab60",
   "metadata": {
    "tags": []
   },
   "outputs": [],
   "source": [
    "from RSquared.strategy import Strategy"
   ]
  },
  {
   "cell_type": "code",
   "execution_count": 2,
   "id": "fe5337c8-32c3-47cb-b839-db331887e9b8",
   "metadata": {
    "tags": []
   },
   "outputs": [
    {
     "ename": "AttributeError",
     "evalue": "'Strategy' object has no attribute 'end_ff'",
     "output_type": "error",
     "traceback": [
      "\u001b[1;31m---------------------------------------------------------------------------\u001b[0m",
      "\u001b[1;31mAttributeError\u001b[0m                            Traceback (most recent call last)",
      "Cell \u001b[1;32mIn[2], line 1\u001b[0m\n\u001b[1;32m----> 1\u001b[0m test1 \u001b[38;5;241m=\u001b[39m Strategy()\n",
      "File \u001b[1;32m~\\Documents\\GitHub\\RSquared\\RSquared\\strategy.py:21\u001b[0m, in \u001b[0;36mStrategy.__init__\u001b[1;34m(self, y_back, start, end, column_name)\u001b[0m\n\u001b[0;32m     17\u001b[0m \u001b[38;5;28mself\u001b[39m\u001b[38;5;241m.\u001b[39my_back \u001b[38;5;241m=\u001b[39m y_back\n\u001b[0;32m     19\u001b[0m \u001b[38;5;66;03m# self.end_ff = end\u001b[39;00m\n\u001b[0;32m     20\u001b[0m \u001b[38;5;66;03m# if not end:\u001b[39;00m\n\u001b[1;32m---> 21\u001b[0m \u001b[38;5;28mself\u001b[39m\u001b[38;5;241m.\u001b[39mfactors_end_date(end)\n",
      "File \u001b[1;32m~\\Documents\\GitHub\\RSquared\\RSquared\\strategy.py:27\u001b[0m, in \u001b[0;36mStrategy.factors_end_date\u001b[1;34m(self)\u001b[0m\n\u001b[0;32m     25\u001b[0m \u001b[38;5;129m@property\u001b[39m\n\u001b[0;32m     26\u001b[0m \u001b[38;5;28;01mdef\u001b[39;00m \u001b[38;5;21mfactors_end_date\u001b[39m(\u001b[38;5;28mself\u001b[39m):\n\u001b[1;32m---> 27\u001b[0m     \u001b[38;5;28;01mreturn\u001b[39;00m \u001b[38;5;28mself\u001b[39m\u001b[38;5;241m.\u001b[39mend_ff\n",
      "\u001b[1;31mAttributeError\u001b[0m: 'Strategy' object has no attribute 'end_ff'"
     ]
    }
   ],
   "source": [
    "test1 = Strategy()\n",
    "# test1.end_ff\n",
    "# print(f\"End date: {test1.end_ff}\")\n",
    "# print(f\"Start date: {test1.start_ff}\")"
   ]
  },
  {
   "cell_type": "code",
   "execution_count": null,
   "id": "efc90cea-4548-466d-94e3-349bb75ce848",
   "metadata": {},
   "outputs": [],
   "source": [
    "test1."
   ]
  },
  {
   "cell_type": "markdown",
   "id": "5b852d6e-a4b1-4488-a66c-c7c1a0184036",
   "metadata": {
    "tags": []
   },
   "source": [
    "test2 = Strategy(start=\"2017-01-01\")\n",
    "# print(f\"Start date: {test2.start_ff}\")\n",
    "print(f\"End date: {test2.end_ff}\")"
   ]
  },
  {
   "cell_type": "markdown",
   "id": "bd041a6a-7a9f-457e-9d27-5e173f39d0cc",
   "metadata": {
    "tags": []
   },
   "source": [
    "test3 = Strategy(start=\"2017-01-01\")\n",
    "print(f\"Start date: {test3.start_ff}\")\n",
    "print(f\"End date: {test3.end_ff}\")"
   ]
  },
  {
   "cell_type": "code",
   "execution_count": null,
   "id": "7904edc5-0a05-46e8-b4c0-60d82d422011",
   "metadata": {
    "tags": []
   },
   "outputs": [],
   "source": [
    "test4 = Strategy(end=\"2017-01-01\")\n",
    "# print(f\"Start date: {test1.start_ff}\")\n",
    "print(f\"End date: {test4.end_ff}\")"
   ]
  },
  {
   "cell_type": "code",
   "execution_count": 11,
   "id": "2a57941f-571b-4e6e-8367-401faa2f7945",
   "metadata": {
    "tags": []
   },
   "outputs": [],
   "source": [
    "class mds_member:\n",
    "    \n",
    "    def __init__(self, first=None, last=None):\n",
    "        self.first = first\n",
    "        self.last = last\n",
    "    \n",
    "    @property\n",
    "    def full_name(self):\n",
    "        return f\"{self.first} {self.last}\"\n",
    "    \n",
    "    @full_name.setter\n",
    "    def full_name(self, name):\n",
    "        first, last = name.split(' ')\n",
    "        self.first = first\n",
    "        self.last = last\n",
    "        \n",
    "    @full_name.deleter\n",
    "    def full_name(self):\n",
    "        print('Name deleted!')\n",
    "        self.first = None\n",
    "        self.last = None\n",
    "    \n",
    "    @property\n",
    "    def email(self):\n",
    "        return self.first.lower() + \".\" + self.last.lower() + \"@mds.com\""
   ]
  },
  {
   "cell_type": "code",
   "execution_count": 21,
   "id": "f05fe10e-a952-4e83-8595-b89137226851",
   "metadata": {
    "tags": []
   },
   "outputs": [],
   "source": [
    "member1 = mds_member()"
   ]
  }
 ],
 "metadata": {
  "kernelspec": {
   "display_name": "Python 3 (ipykernel)",
   "language": "python",
   "name": "python3"
  },
  "language_info": {
   "codemirror_mode": {
    "name": "ipython",
    "version": 3
   },
   "file_extension": ".py",
   "mimetype": "text/x-python",
   "name": "python",
   "nbconvert_exporter": "python",
   "pygments_lexer": "ipython3",
   "version": "3.11.5"
  }
 },
 "nbformat": 4,
 "nbformat_minor": 5
}
