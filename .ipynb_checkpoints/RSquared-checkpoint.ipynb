{
 "cells": [
  {
   "cell_type": "markdown",
   "id": "fa04fc4d-58e1-4511-bfb7-a23cd80343b7",
   "metadata": {},
   "source": [
    "<center> <h1><b>Estrategia: R-cuadrado</b> </h1></center>"
   ]
  },
  {
   "cell_type": "markdown",
   "id": "645482d3-9a88-4590-8667-694b4fd42106",
   "metadata": {},
   "source": [
    "Esta estrategia usa el modelo de Fama-French de cuatro factores.\n",
    "\n",
    "\\begin{equation}\n",
    "    r_i−r_f = β_0+β_1(r_m−r_f)+β_2 SMB+β_3 HML + \\epsilon\n",
    "\\end{equation}\n",
    "\n",
    "Donde:\n",
    "\n",
    "* $r_i$: Es el retorno del i-esimo activo .\n",
    "* $r_f$: Es la tasa libre de riesgo.\n",
    "* $r_i − r_f$: Es el retorno en exceso del activo.\n",
    "* $r_m − r_f$: Es la prima de riesgo de mercado.\n",
    "* SMB: Es el factor tamaño o small minus big market cap, este factor nos dice que las empresas de menor capitalización de mercado tienen un rendimiento superior que las empresas de mayor capitalización.\n",
    "* HML: Es el factor valor o high minus low price to book, este factor nos dice que las empresas con un alto ratio price to book tienen un rendimiento superior que las empresas de bajo ratio price to book.\n",
    "* $\\beta_j (j>0)$: Paramétros a ajustar mediante métodos de regresión.\n",
    "* $\\beta_0 = \\alpha_i$: interceptos hallados mediante métodos de regresión."
   ]
  },
  {
   "cell_type": "code",
   "execution_count": 1,
   "id": "8ab5c8c6-38e4-4c02-9199-af8cf34d52b3",
   "metadata": {},
   "outputs": [],
   "source": [
    "# # Correr esta celda una sola vez\n",
    "# !pip install --upgrade version_information\n",
    "# !pip install pandas_datareader\n",
    "# !pip install yfinance"
   ]
  },
  {
   "cell_type": "code",
   "execution_count": 37,
   "id": "706aa4f8-8906-4924-9c04-a29a9fc62e15",
   "metadata": {},
   "outputs": [],
   "source": [
    "import pandas_datareader.data as reader    # Para traer la data directamente de la página de Fama-French\n",
    "import pandas as pd\n",
    "import numpy as np\n",
    "import os\n",
    "from datetime import date\n",
    "import yfinance as yf\n",
    "import version_information\n",
    "import matplotlib.pyplot as plt"
   ]
  },
  {
   "cell_type": "markdown",
   "id": "5bb7b803-f821-4acc-b5e4-e21016fabe2a",
   "metadata": {},
   "source": [
    "### Nombre de archivos importantes pagina Fama-French \n",
    "\n",
    "**3 factor famma french**\n",
    "\n",
    "- Mensual: 'F-F_Research_Data_Factors'\n",
    "- Semanal: 'F-F_Research_Data_Factors_weekly'\n",
    "- Diaria: 'F-F_Research_Data_Factors_daily'\n",
    "\n",
    "**Momentum factor**\n",
    "\n",
    "- Mensual: 'F-F_Momentum_Factor'\n",
    "- Diaria: 'F-F_Momentum_Factor_daily'"
   ]
  },
  {
   "cell_type": "markdown",
   "id": "ea88b10e-233a-4819-ab21-9e9e9813b269",
   "metadata": {},
   "source": [
    "### 1. Traer la data (mensual, semanal,...) \n",
    "    \n",
    "Se van a traer tres distintos dataframes: el primero contiene los tres factores originales del modelo de Fama-French, el segundo contiene el cuarto factor (Momento) y el cuarto dataFrame contiene los precios de cierre de los activos que componen el portafolio."
   ]
  },
  {
   "cell_type": "code",
   "execution_count": 3,
   "id": "7fd977fb-a906-4994-8a2b-4af036111d0a",
   "metadata": {},
   "outputs": [
    {
     "name": "stdout",
     "output_type": "stream",
     "text": [
      "[*********************100%***********************]  9 of 9 completed\n"
     ]
    }
   ],
   "source": [
    "end = date.today()\n",
    "start = date(end.year - 5, end.month, end.day)\n",
    "\n",
    "# Tres factores principales de fama-french\n",
    "ff_df = reader.DataReader('F-F_Research_Data_Factors', 'famafrench', start, end)[0]\n",
    "\n",
    "# factor de momento\n",
    "ff_MOM_df = reader.DataReader('F-F_Momentum_Factor', 'famafrench', start, end)[0]\n",
    "\n",
    "# acciones\n",
    "# el mismo que la data ade fama-french\n",
    "s = ff_df.index[-1]\n",
    "end1 = date(s.year, s.month, 29)\n",
    "# un mes atras respecto a la data de fama-french\n",
    "start1 = date(end.year - 5, end.month-1, 1)\n",
    "\n",
    "tickers = [\"NTRS\", \"O\", \"SBUX\", \"SWK\", \"COF\", \"M\", \"ECL\", \"EXC\", \"HRB\"]\n",
    "precios = yf.download(tickers, start=start1, end=end1, interval=\"1mo\")[\"Close\"]\n",
    "precios.index = pd.to_datetime(precios.index, format=\"%Y%m\").to_period(\"M\")"
   ]
  },
  {
   "cell_type": "code",
   "execution_count": 4,
   "id": "fa0322c2-3904-4994-8658-9be0159d8a5e",
   "metadata": {},
   "outputs": [
    {
     "data": {
      "text/html": [
       "<div>\n",
       "<style scoped>\n",
       "    .dataframe tbody tr th:only-of-type {\n",
       "        vertical-align: middle;\n",
       "    }\n",
       "\n",
       "    .dataframe tbody tr th {\n",
       "        vertical-align: top;\n",
       "    }\n",
       "\n",
       "    .dataframe thead th {\n",
       "        text-align: right;\n",
       "    }\n",
       "</style>\n",
       "<table border=\"1\" class=\"dataframe\">\n",
       "  <thead>\n",
       "    <tr style=\"text-align: right;\">\n",
       "      <th></th>\n",
       "      <th>COF</th>\n",
       "      <th>ECL</th>\n",
       "      <th>EXC</th>\n",
       "      <th>HRB</th>\n",
       "      <th>M</th>\n",
       "      <th>NTRS</th>\n",
       "      <th>O</th>\n",
       "      <th>SBUX</th>\n",
       "      <th>SWK</th>\n",
       "    </tr>\n",
       "    <tr>\n",
       "      <th>Date</th>\n",
       "      <th></th>\n",
       "      <th></th>\n",
       "      <th></th>\n",
       "      <th></th>\n",
       "      <th></th>\n",
       "      <th></th>\n",
       "      <th></th>\n",
       "      <th></th>\n",
       "      <th></th>\n",
       "    </tr>\n",
       "  </thead>\n",
       "  <tbody>\n",
       "    <tr>\n",
       "      <th>2018-05</th>\n",
       "      <td>94.000000</td>\n",
       "      <td>142.610001</td>\n",
       "      <td>29.522112</td>\n",
       "      <td>27.450001</td>\n",
       "      <td>34.910000</td>\n",
       "      <td>102.519997</td>\n",
       "      <td>51.647285</td>\n",
       "      <td>56.669998</td>\n",
       "      <td>139.240005</td>\n",
       "    </tr>\n",
       "    <tr>\n",
       "      <th>2018-06</th>\n",
       "      <td>91.900002</td>\n",
       "      <td>140.330002</td>\n",
       "      <td>30.385164</td>\n",
       "      <td>22.780001</td>\n",
       "      <td>37.430000</td>\n",
       "      <td>102.889999</td>\n",
       "      <td>52.122093</td>\n",
       "      <td>48.849998</td>\n",
       "      <td>132.809998</td>\n",
       "    </tr>\n",
       "    <tr>\n",
       "      <th>2018-07</th>\n",
       "      <td>94.320000</td>\n",
       "      <td>140.699997</td>\n",
       "      <td>30.313837</td>\n",
       "      <td>25.160000</td>\n",
       "      <td>39.730000</td>\n",
       "      <td>109.220001</td>\n",
       "      <td>54.040699</td>\n",
       "      <td>52.389999</td>\n",
       "      <td>149.470001</td>\n",
       "    </tr>\n",
       "    <tr>\n",
       "      <th>2018-08</th>\n",
       "      <td>99.089996</td>\n",
       "      <td>150.479996</td>\n",
       "      <td>31.176889</td>\n",
       "      <td>27.059999</td>\n",
       "      <td>36.549999</td>\n",
       "      <td>107.459999</td>\n",
       "      <td>56.753876</td>\n",
       "      <td>53.450001</td>\n",
       "      <td>140.529999</td>\n",
       "    </tr>\n",
       "    <tr>\n",
       "      <th>2018-09</th>\n",
       "      <td>94.930000</td>\n",
       "      <td>156.779999</td>\n",
       "      <td>31.141228</td>\n",
       "      <td>25.750000</td>\n",
       "      <td>34.730000</td>\n",
       "      <td>102.129997</td>\n",
       "      <td>55.125969</td>\n",
       "      <td>56.840000</td>\n",
       "      <td>146.440002</td>\n",
       "    </tr>\n",
       "  </tbody>\n",
       "</table>\n",
       "</div>"
      ],
      "text/plain": [
       "               COF         ECL        EXC        HRB          M        NTRS  \\\n",
       "Date                                                                          \n",
       "2018-05  94.000000  142.610001  29.522112  27.450001  34.910000  102.519997   \n",
       "2018-06  91.900002  140.330002  30.385164  22.780001  37.430000  102.889999   \n",
       "2018-07  94.320000  140.699997  30.313837  25.160000  39.730000  109.220001   \n",
       "2018-08  99.089996  150.479996  31.176889  27.059999  36.549999  107.459999   \n",
       "2018-09  94.930000  156.779999  31.141228  25.750000  34.730000  102.129997   \n",
       "\n",
       "                 O       SBUX         SWK  \n",
       "Date                                       \n",
       "2018-05  51.647285  56.669998  139.240005  \n",
       "2018-06  52.122093  48.849998  132.809998  \n",
       "2018-07  54.040699  52.389999  149.470001  \n",
       "2018-08  56.753876  53.450001  140.529999  \n",
       "2018-09  55.125969  56.840000  146.440002  "
      ]
     },
     "execution_count": 4,
     "metadata": {},
     "output_type": "execute_result"
    }
   ],
   "source": [
    "precios.head()"
   ]
  },
  {
   "cell_type": "code",
   "execution_count": 5,
   "id": "f2c71097-dc81-4278-b02b-f738113bea8e",
   "metadata": {},
   "outputs": [
    {
     "data": {
      "text/plain": [
       "(60, 9)"
      ]
     },
     "execution_count": 5,
     "metadata": {},
     "output_type": "execute_result"
    }
   ],
   "source": [
    "precios.shape"
   ]
  },
  {
   "cell_type": "code",
   "execution_count": 6,
   "id": "e24ad984-9027-40f8-bfad-4f20f02e27a1",
   "metadata": {},
   "outputs": [
    {
     "data": {
      "text/html": [
       "<div>\n",
       "<style scoped>\n",
       "    .dataframe tbody tr th:only-of-type {\n",
       "        vertical-align: middle;\n",
       "    }\n",
       "\n",
       "    .dataframe tbody tr th {\n",
       "        vertical-align: top;\n",
       "    }\n",
       "\n",
       "    .dataframe thead th {\n",
       "        text-align: right;\n",
       "    }\n",
       "</style>\n",
       "<table border=\"1\" class=\"dataframe\">\n",
       "  <thead>\n",
       "    <tr style=\"text-align: right;\">\n",
       "      <th></th>\n",
       "      <th>Mkt-RF</th>\n",
       "      <th>SMB</th>\n",
       "      <th>HML</th>\n",
       "      <th>RF</th>\n",
       "    </tr>\n",
       "    <tr>\n",
       "      <th>Date</th>\n",
       "      <th></th>\n",
       "      <th></th>\n",
       "      <th></th>\n",
       "      <th></th>\n",
       "    </tr>\n",
       "  </thead>\n",
       "  <tbody>\n",
       "    <tr>\n",
       "      <th>2018-06</th>\n",
       "      <td>0.48</td>\n",
       "      <td>1.15</td>\n",
       "      <td>-2.33</td>\n",
       "      <td>0.14</td>\n",
       "    </tr>\n",
       "    <tr>\n",
       "      <th>2018-07</th>\n",
       "      <td>3.19</td>\n",
       "      <td>-2.23</td>\n",
       "      <td>0.47</td>\n",
       "      <td>0.16</td>\n",
       "    </tr>\n",
       "    <tr>\n",
       "      <th>2018-08</th>\n",
       "      <td>3.44</td>\n",
       "      <td>1.13</td>\n",
       "      <td>-3.98</td>\n",
       "      <td>0.16</td>\n",
       "    </tr>\n",
       "    <tr>\n",
       "      <th>2018-09</th>\n",
       "      <td>0.06</td>\n",
       "      <td>-2.28</td>\n",
       "      <td>-1.69</td>\n",
       "      <td>0.15</td>\n",
       "    </tr>\n",
       "    <tr>\n",
       "      <th>2018-10</th>\n",
       "      <td>-7.68</td>\n",
       "      <td>-4.77</td>\n",
       "      <td>3.44</td>\n",
       "      <td>0.19</td>\n",
       "    </tr>\n",
       "  </tbody>\n",
       "</table>\n",
       "</div>"
      ],
      "text/plain": [
       "         Mkt-RF   SMB   HML    RF\n",
       "Date                             \n",
       "2018-06    0.48  1.15 -2.33  0.14\n",
       "2018-07    3.19 -2.23  0.47  0.16\n",
       "2018-08    3.44  1.13 -3.98  0.16\n",
       "2018-09    0.06 -2.28 -1.69  0.15\n",
       "2018-10   -7.68 -4.77  3.44  0.19"
      ]
     },
     "execution_count": 6,
     "metadata": {},
     "output_type": "execute_result"
    }
   ],
   "source": [
    "ff_df.head()"
   ]
  },
  {
   "cell_type": "code",
   "execution_count": 7,
   "id": "44e6fe1c-acac-4f0d-b3c3-c449ef2fba35",
   "metadata": {},
   "outputs": [
    {
     "data": {
      "text/plain": [
       "(59, 4)"
      ]
     },
     "execution_count": 7,
     "metadata": {},
     "output_type": "execute_result"
    }
   ],
   "source": [
    "ff_df.shape"
   ]
  },
  {
   "cell_type": "code",
   "execution_count": 8,
   "id": "52c53cf6-25c4-4adf-a0c8-93d5b97a3b28",
   "metadata": {},
   "outputs": [
    {
     "data": {
      "text/html": [
       "<div>\n",
       "<style scoped>\n",
       "    .dataframe tbody tr th:only-of-type {\n",
       "        vertical-align: middle;\n",
       "    }\n",
       "\n",
       "    .dataframe tbody tr th {\n",
       "        vertical-align: top;\n",
       "    }\n",
       "\n",
       "    .dataframe thead th {\n",
       "        text-align: right;\n",
       "    }\n",
       "</style>\n",
       "<table border=\"1\" class=\"dataframe\">\n",
       "  <thead>\n",
       "    <tr style=\"text-align: right;\">\n",
       "      <th></th>\n",
       "      <th>Mom</th>\n",
       "    </tr>\n",
       "    <tr>\n",
       "      <th>Date</th>\n",
       "      <th></th>\n",
       "    </tr>\n",
       "  </thead>\n",
       "  <tbody>\n",
       "    <tr>\n",
       "      <th>2022-12</th>\n",
       "      <td>4.52</td>\n",
       "    </tr>\n",
       "    <tr>\n",
       "      <th>2023-01</th>\n",
       "      <td>-15.98</td>\n",
       "    </tr>\n",
       "    <tr>\n",
       "      <th>2023-02</th>\n",
       "      <td>0.21</td>\n",
       "    </tr>\n",
       "    <tr>\n",
       "      <th>2023-03</th>\n",
       "      <td>-2.50</td>\n",
       "    </tr>\n",
       "    <tr>\n",
       "      <th>2023-04</th>\n",
       "      <td>1.56</td>\n",
       "    </tr>\n",
       "  </tbody>\n",
       "</table>\n",
       "</div>"
      ],
      "text/plain": [
       "         Mom   \n",
       "Date           \n",
       "2022-12    4.52\n",
       "2023-01  -15.98\n",
       "2023-02    0.21\n",
       "2023-03   -2.50\n",
       "2023-04    1.56"
      ]
     },
     "execution_count": 8,
     "metadata": {},
     "output_type": "execute_result"
    }
   ],
   "source": [
    "ff_MOM_df.tail()"
   ]
  },
  {
   "cell_type": "code",
   "execution_count": 9,
   "id": "79e0a7c8-7ed9-493b-b260-2e269b01627f",
   "metadata": {},
   "outputs": [
    {
     "data": {
      "text/plain": [
       "(59, 1)"
      ]
     },
     "execution_count": 9,
     "metadata": {},
     "output_type": "execute_result"
    }
   ],
   "source": [
    "ff_MOM_df.shape"
   ]
  },
  {
   "cell_type": "markdown",
   "id": "6b0cc83d-fde5-420d-833d-83d9ef0c4641",
   "metadata": {},
   "source": [
    "<h3> 2. Unir Fama-French DataFrames"
   ]
  },
  {
   "cell_type": "code",
   "execution_count": 10,
   "id": "ad129f09-ffe3-4699-b806-01c557bac3eb",
   "metadata": {},
   "outputs": [
    {
     "data": {
      "text/html": [
       "<div>\n",
       "<style scoped>\n",
       "    .dataframe tbody tr th:only-of-type {\n",
       "        vertical-align: middle;\n",
       "    }\n",
       "\n",
       "    .dataframe tbody tr th {\n",
       "        vertical-align: top;\n",
       "    }\n",
       "\n",
       "    .dataframe thead th {\n",
       "        text-align: right;\n",
       "    }\n",
       "</style>\n",
       "<table border=\"1\" class=\"dataframe\">\n",
       "  <thead>\n",
       "    <tr style=\"text-align: right;\">\n",
       "      <th></th>\n",
       "      <th>Mkt-RF</th>\n",
       "      <th>SMB</th>\n",
       "      <th>HML</th>\n",
       "      <th>RF</th>\n",
       "      <th>Mom</th>\n",
       "    </tr>\n",
       "    <tr>\n",
       "      <th>Date</th>\n",
       "      <th></th>\n",
       "      <th></th>\n",
       "      <th></th>\n",
       "      <th></th>\n",
       "      <th></th>\n",
       "    </tr>\n",
       "  </thead>\n",
       "  <tbody>\n",
       "    <tr>\n",
       "      <th>2018-06</th>\n",
       "      <td>0.48</td>\n",
       "      <td>1.15</td>\n",
       "      <td>-2.33</td>\n",
       "      <td>0.14</td>\n",
       "      <td>-2.35</td>\n",
       "    </tr>\n",
       "    <tr>\n",
       "      <th>2018-07</th>\n",
       "      <td>3.19</td>\n",
       "      <td>-2.23</td>\n",
       "      <td>0.47</td>\n",
       "      <td>0.16</td>\n",
       "      <td>-1.41</td>\n",
       "    </tr>\n",
       "    <tr>\n",
       "      <th>2018-08</th>\n",
       "      <td>3.44</td>\n",
       "      <td>1.13</td>\n",
       "      <td>-3.98</td>\n",
       "      <td>0.16</td>\n",
       "      <td>5.29</td>\n",
       "    </tr>\n",
       "    <tr>\n",
       "      <th>2018-09</th>\n",
       "      <td>0.06</td>\n",
       "      <td>-2.28</td>\n",
       "      <td>-1.69</td>\n",
       "      <td>0.15</td>\n",
       "      <td>0.04</td>\n",
       "    </tr>\n",
       "    <tr>\n",
       "      <th>2018-10</th>\n",
       "      <td>-7.68</td>\n",
       "      <td>-4.77</td>\n",
       "      <td>3.44</td>\n",
       "      <td>0.19</td>\n",
       "      <td>-1.99</td>\n",
       "    </tr>\n",
       "  </tbody>\n",
       "</table>\n",
       "</div>"
      ],
      "text/plain": [
       "         Mkt-RF   SMB   HML    RF   Mom\n",
       "Date                                   \n",
       "2018-06    0.48  1.15 -2.33  0.14 -2.35\n",
       "2018-07    3.19 -2.23  0.47  0.16 -1.41\n",
       "2018-08    3.44  1.13 -3.98  0.16  5.29\n",
       "2018-09    0.06 -2.28 -1.69  0.15  0.04\n",
       "2018-10   -7.68 -4.77  3.44  0.19 -1.99"
      ]
     },
     "execution_count": 10,
     "metadata": {},
     "output_type": "execute_result"
    }
   ],
   "source": [
    "ff_4f = ff_df.merge(ff_MOM_df, on=ff_df.index)\n",
    "ff_4f.columns = ['Date', 'Mkt-RF', 'SMB', 'HML', 'RF', 'Mom'] \n",
    "ff_4f.set_index([\"Date\"], inplace=True)\n",
    "ff_4f.head()"
   ]
  },
  {
   "cell_type": "markdown",
   "id": "7db93b78-a66c-4f5c-9cc7-f67e0ab3d2aa",
   "metadata": {},
   "source": [
    "<h3> 3. Retornos"
   ]
  },
  {
   "cell_type": "markdown",
   "id": "f97c3355-d6bb-4261-b978-b2dc5b22702e",
   "metadata": {},
   "source": [
    "Al calular los retornos, la primera fila va quedar sin datos que por lo cual que se elimina. Esta es la razón por la que se descargo la data de los precios de cierre con una fecha demás respecto al dataframe de Fama-French. Luego, ajustamos los retornos de los precios con la columna \"RF\" de Fama-French, para asi obtener el retorno en exceso para cada activo."
   ]
  },
  {
   "cell_type": "code",
   "execution_count": 11,
   "id": "dfb3f78f-5ee0-4ab3-a9c2-9fd977be3f19",
   "metadata": {
    "tags": []
   },
   "outputs": [
    {
     "data": {
      "text/html": [
       "<div>\n",
       "<style scoped>\n",
       "    .dataframe tbody tr th:only-of-type {\n",
       "        vertical-align: middle;\n",
       "    }\n",
       "\n",
       "    .dataframe tbody tr th {\n",
       "        vertical-align: top;\n",
       "    }\n",
       "\n",
       "    .dataframe thead th {\n",
       "        text-align: right;\n",
       "    }\n",
       "</style>\n",
       "<table border=\"1\" class=\"dataframe\">\n",
       "  <thead>\n",
       "    <tr style=\"text-align: right;\">\n",
       "      <th></th>\n",
       "      <th>COF</th>\n",
       "      <th>ECL</th>\n",
       "      <th>EXC</th>\n",
       "      <th>HRB</th>\n",
       "      <th>M</th>\n",
       "      <th>NTRS</th>\n",
       "      <th>O</th>\n",
       "      <th>SBUX</th>\n",
       "      <th>SWK</th>\n",
       "    </tr>\n",
       "    <tr>\n",
       "      <th>Date</th>\n",
       "      <th></th>\n",
       "      <th></th>\n",
       "      <th></th>\n",
       "      <th></th>\n",
       "      <th></th>\n",
       "      <th></th>\n",
       "      <th></th>\n",
       "      <th></th>\n",
       "      <th></th>\n",
       "    </tr>\n",
       "  </thead>\n",
       "  <tbody>\n",
       "    <tr>\n",
       "      <th>2018-06</th>\n",
       "      <td>-0.022340</td>\n",
       "      <td>-0.015988</td>\n",
       "      <td>0.029234</td>\n",
       "      <td>-0.170128</td>\n",
       "      <td>0.072186</td>\n",
       "      <td>0.003609</td>\n",
       "      <td>0.009193</td>\n",
       "      <td>-0.137992</td>\n",
       "      <td>-0.046179</td>\n",
       "    </tr>\n",
       "    <tr>\n",
       "      <th>2018-07</th>\n",
       "      <td>0.026333</td>\n",
       "      <td>0.002637</td>\n",
       "      <td>-0.002347</td>\n",
       "      <td>0.104478</td>\n",
       "      <td>0.061448</td>\n",
       "      <td>0.061522</td>\n",
       "      <td>0.036810</td>\n",
       "      <td>0.072467</td>\n",
       "      <td>0.125442</td>\n",
       "    </tr>\n",
       "    <tr>\n",
       "      <th>2018-08</th>\n",
       "      <td>0.050572</td>\n",
       "      <td>0.069510</td>\n",
       "      <td>0.028471</td>\n",
       "      <td>0.075517</td>\n",
       "      <td>-0.080040</td>\n",
       "      <td>-0.016114</td>\n",
       "      <td>0.050206</td>\n",
       "      <td>0.020233</td>\n",
       "      <td>-0.059811</td>\n",
       "    </tr>\n",
       "    <tr>\n",
       "      <th>2018-09</th>\n",
       "      <td>-0.041982</td>\n",
       "      <td>0.041866</td>\n",
       "      <td>-0.001144</td>\n",
       "      <td>-0.048411</td>\n",
       "      <td>-0.049795</td>\n",
       "      <td>-0.049600</td>\n",
       "      <td>-0.028684</td>\n",
       "      <td>0.063424</td>\n",
       "      <td>0.042055</td>\n",
       "    </tr>\n",
       "    <tr>\n",
       "      <th>2018-10</th>\n",
       "      <td>-0.059307</td>\n",
       "      <td>-0.023153</td>\n",
       "      <td>0.003436</td>\n",
       "      <td>0.030680</td>\n",
       "      <td>-0.012669</td>\n",
       "      <td>-0.078919</td>\n",
       "      <td>0.059413</td>\n",
       "      <td>0.025158</td>\n",
       "      <td>-0.204316</td>\n",
       "    </tr>\n",
       "  </tbody>\n",
       "</table>\n",
       "</div>"
      ],
      "text/plain": [
       "              COF       ECL       EXC       HRB         M      NTRS         O  \\\n",
       "Date                                                                            \n",
       "2018-06 -0.022340 -0.015988  0.029234 -0.170128  0.072186  0.003609  0.009193   \n",
       "2018-07  0.026333  0.002637 -0.002347  0.104478  0.061448  0.061522  0.036810   \n",
       "2018-08  0.050572  0.069510  0.028471  0.075517 -0.080040 -0.016114  0.050206   \n",
       "2018-09 -0.041982  0.041866 -0.001144 -0.048411 -0.049795 -0.049600 -0.028684   \n",
       "2018-10 -0.059307 -0.023153  0.003436  0.030680 -0.012669 -0.078919  0.059413   \n",
       "\n",
       "             SBUX       SWK  \n",
       "Date                         \n",
       "2018-06 -0.137992 -0.046179  \n",
       "2018-07  0.072467  0.125442  \n",
       "2018-08  0.020233 -0.059811  \n",
       "2018-09  0.063424  0.042055  \n",
       "2018-10  0.025158 -0.204316  "
      ]
     },
     "execution_count": 11,
     "metadata": {},
     "output_type": "execute_result"
    }
   ],
   "source": [
    "retornos = precios.pct_change()\n",
    "retornos.dropna(inplace=True)\n",
    "retornos.head()"
   ]
  },
  {
   "cell_type": "code",
   "execution_count": 12,
   "id": "c5755136-7dc2-4a48-ae70-995171d21204",
   "metadata": {},
   "outputs": [
    {
     "data": {
      "text/html": [
       "<div>\n",
       "<style scoped>\n",
       "    .dataframe tbody tr th:only-of-type {\n",
       "        vertical-align: middle;\n",
       "    }\n",
       "\n",
       "    .dataframe tbody tr th {\n",
       "        vertical-align: top;\n",
       "    }\n",
       "\n",
       "    .dataframe thead th {\n",
       "        text-align: right;\n",
       "    }\n",
       "</style>\n",
       "<table border=\"1\" class=\"dataframe\">\n",
       "  <thead>\n",
       "    <tr style=\"text-align: right;\">\n",
       "      <th></th>\n",
       "      <th>COF</th>\n",
       "      <th>ECL</th>\n",
       "      <th>EXC</th>\n",
       "      <th>HRB</th>\n",
       "      <th>M</th>\n",
       "      <th>NTRS</th>\n",
       "      <th>O</th>\n",
       "      <th>SBUX</th>\n",
       "      <th>SWK</th>\n",
       "    </tr>\n",
       "    <tr>\n",
       "      <th>Date</th>\n",
       "      <th></th>\n",
       "      <th></th>\n",
       "      <th></th>\n",
       "      <th></th>\n",
       "      <th></th>\n",
       "      <th></th>\n",
       "      <th></th>\n",
       "      <th></th>\n",
       "      <th></th>\n",
       "    </tr>\n",
       "  </thead>\n",
       "  <tbody>\n",
       "    <tr>\n",
       "      <th>2018-06</th>\n",
       "      <td>-0.162340</td>\n",
       "      <td>-0.155988</td>\n",
       "      <td>-0.110766</td>\n",
       "      <td>-0.310128</td>\n",
       "      <td>-0.067814</td>\n",
       "      <td>-0.136391</td>\n",
       "      <td>-0.130807</td>\n",
       "      <td>-0.277992</td>\n",
       "      <td>-0.186179</td>\n",
       "    </tr>\n",
       "    <tr>\n",
       "      <th>2018-07</th>\n",
       "      <td>-0.133667</td>\n",
       "      <td>-0.157363</td>\n",
       "      <td>-0.162347</td>\n",
       "      <td>-0.055522</td>\n",
       "      <td>-0.098552</td>\n",
       "      <td>-0.098478</td>\n",
       "      <td>-0.123190</td>\n",
       "      <td>-0.087533</td>\n",
       "      <td>-0.034558</td>\n",
       "    </tr>\n",
       "    <tr>\n",
       "      <th>2018-08</th>\n",
       "      <td>-0.109428</td>\n",
       "      <td>-0.090490</td>\n",
       "      <td>-0.131529</td>\n",
       "      <td>-0.084483</td>\n",
       "      <td>-0.240040</td>\n",
       "      <td>-0.176114</td>\n",
       "      <td>-0.109794</td>\n",
       "      <td>-0.139767</td>\n",
       "      <td>-0.219811</td>\n",
       "    </tr>\n",
       "    <tr>\n",
       "      <th>2018-09</th>\n",
       "      <td>-0.191982</td>\n",
       "      <td>-0.108134</td>\n",
       "      <td>-0.151144</td>\n",
       "      <td>-0.198411</td>\n",
       "      <td>-0.199795</td>\n",
       "      <td>-0.199600</td>\n",
       "      <td>-0.178684</td>\n",
       "      <td>-0.086576</td>\n",
       "      <td>-0.107945</td>\n",
       "    </tr>\n",
       "    <tr>\n",
       "      <th>2018-10</th>\n",
       "      <td>-0.249307</td>\n",
       "      <td>-0.213153</td>\n",
       "      <td>-0.186564</td>\n",
       "      <td>-0.159320</td>\n",
       "      <td>-0.202669</td>\n",
       "      <td>-0.268919</td>\n",
       "      <td>-0.130587</td>\n",
       "      <td>-0.164842</td>\n",
       "      <td>-0.394316</td>\n",
       "    </tr>\n",
       "  </tbody>\n",
       "</table>\n",
       "</div>"
      ],
      "text/plain": [
       "              COF       ECL       EXC       HRB         M      NTRS         O  \\\n",
       "Date                                                                            \n",
       "2018-06 -0.162340 -0.155988 -0.110766 -0.310128 -0.067814 -0.136391 -0.130807   \n",
       "2018-07 -0.133667 -0.157363 -0.162347 -0.055522 -0.098552 -0.098478 -0.123190   \n",
       "2018-08 -0.109428 -0.090490 -0.131529 -0.084483 -0.240040 -0.176114 -0.109794   \n",
       "2018-09 -0.191982 -0.108134 -0.151144 -0.198411 -0.199795 -0.199600 -0.178684   \n",
       "2018-10 -0.249307 -0.213153 -0.186564 -0.159320 -0.202669 -0.268919 -0.130587   \n",
       "\n",
       "             SBUX       SWK  \n",
       "Date                         \n",
       "2018-06 -0.277992 -0.186179  \n",
       "2018-07 -0.087533 -0.034558  \n",
       "2018-08 -0.139767 -0.219811  \n",
       "2018-09 -0.086576 -0.107945  \n",
       "2018-10 -0.164842 -0.394316  "
      ]
     },
     "execution_count": 12,
     "metadata": {},
     "output_type": "execute_result"
    }
   ],
   "source": [
    "ret_rf = pd.DataFrame(retornos.values - ff_4f[[\"RF\"]].values, columns= retornos.columns, index=retornos.index)\n",
    "ret_rf.head()"
   ]
  },
  {
   "cell_type": "code",
   "execution_count": 38,
   "id": "21e7691a-2ed1-472f-82a3-289869de13c5",
   "metadata": {},
   "outputs": [
    {
     "data": {
      "image/png": "[encoded data removed]",
      "text/plain": [
       "<Figure size 1200x400 with 1 Axes>"
      ]
     },
     "metadata": {},
     "output_type": "display_data"
    }
   ],
   "source": [
    "ret_rf.plot(figsize=(12, 4), title=\"Retorno en exceso de los activos en el portafolio\", ylabel=\"Retornos %\")\n",
    "plt.show()"
   ]
  },
  {
   "cell_type": "markdown",
   "id": "083e9fcd-d44b-4f4f-a7f8-e98609eeecc6",
   "metadata": {},
   "source": [
    "<h3> 4. Implementar modelo"
   ]
  },
  {
   "cell_type": "markdown",
   "id": "ac1e2164-f3ef-406b-b3ac-2d421a5b2d54",
   "metadata": {},
   "source": [
    "Primero se reescribe la ecuación a ajustar en forma matricial (debido a que es mucho más eficiente programar operaciones matriciales, que en su lugar, por ejemplo ejecutar todo mediante un ciclo for para através de cada activo en el portafolio). Para ello, se suponen $N$ activos y que el retorno en exceso $R_i, i=1,2,...,N$ viene dado por:\n",
    "\n",
    "$$R_i = \\alpha_i + \\sum_{k=1}^{4} β_{i,k} F_k + \\epsilon_i$$\n",
    "\n",
    "En forma matricial para todos los activos, se tiene la siguiente forma:\n",
    "\n",
    "$$R = \\alpha + BF + \\epsilon $$\n",
    "\n",
    "\\begin{equation}\n",
    "    R =  \n",
    "    \\begin{bmatrix}\n",
    "        R_1 \\\\\n",
    "        R_2 \\\\\n",
    "        \\vdots\\\\\n",
    "        R_N \n",
    "    \\end{bmatrix},\\quad\n",
    "    \\alpha =  \n",
    "    \\begin{bmatrix}\n",
    "        \\alpha_1 \\\\\n",
    "        \\alpha_2 \\\\\n",
    "        \\vdots\\\\\n",
    "        \\alpha_N \n",
    "    \\end{bmatrix}, \\quad\n",
    "    B =\n",
    "    \\begin{bmatrix}\n",
    "        \\beta_{1,1} & \\beta_{1,2} & \\beta_{1,3} & \\beta_{1,4}\\\\\n",
    "        \\beta_{2,1} & \\beta_{2,2} & \\beta_{2,3} & \\beta_{2,4}\\\\\n",
    "        \\vdots      & \\vdots      & \\vdots & \\vdots     \\\\\n",
    "        \\beta_{N,1} & \\beta_{N,2} & \\beta_{N,3} &\\beta_{N,4}\n",
    "    \\end{bmatrix}, \\quad\n",
    "    F =  \n",
    "    \\begin{bmatrix}\n",
    "        r_m - r_f \\\\\n",
    "        SMB       \\\\\n",
    "        HML       \\\\\n",
    "        Mom \n",
    "    \\end{bmatrix}, \\quad\n",
    "    \\epsilon =  \n",
    "    \\begin{bmatrix}\n",
    "        \\epsilon_1 \\\\\n",
    "        \\epsilon_2 \\\\\n",
    "        \\vdots\\\\\n",
    "        \\epsilon_N \n",
    "    \\end{bmatrix}.\n",
    "\\end{equation}\n",
    "\n",
    "\\begin{equation}\n",
    "\\end{equation}"
   ]
  },
  {
   "cell_type": "code",
   "execution_count": 13,
   "id": "c01611ce-a0fc-4d22-90d9-b4f669a4b371",
   "metadata": {},
   "outputs": [],
   "source": [
    "from sklearn.linear_model import LinearRegression\n",
    "from scipy import stats"
   ]
  },
  {
   "cell_type": "code",
   "execution_count": 14,
   "id": "cf24670d-09e0-4720-af86-9a32db419d94",
   "metadata": {},
   "outputs": [],
   "source": [
    "# usando sklearn\n",
    "X = ff_4f[['Mkt-RF', 'SMB', 'HML','Mom']].values\n",
    "y = ret_rf.values\n",
    "\n",
    "lr = LinearRegression()\n",
    "lr.fit(X, y)\n",
    "B = np.matrix(lr.coef_)\n",
    "alpha = lr.intercept_\n",
    "\n",
    "# Coefficient of determination\n",
    "r_sq = lr.score(X, y)"
   ]
  },
  {
   "cell_type": "code",
   "execution_count": 15,
   "id": "bd2bb867-07f9-4efe-8321-baf69ad62f12",
   "metadata": {},
   "outputs": [
    {
     "data": {
      "text/plain": [
       "0.36744435882420623"
      ]
     },
     "execution_count": 15,
     "metadata": {},
     "output_type": "execute_result"
    }
   ],
   "source": [
    "r_sq"
   ]
  },
  {
   "cell_type": "code",
   "execution_count": 16,
   "id": "84f36969-7d9d-4982-9580-8028b487301f",
   "metadata": {},
   "outputs": [],
   "source": [
    "B = pd.DataFrame(B, index=precios.columns, columns=['Mkt-RF', 'SMB', 'HML','Mom'])\n",
    "alpha = pd.DataFrame(alpha, index=precios.columns, columns=[\"Alpha\"])\n",
    "regresion_df = pd.concat([alpha, B], axis=1)"
   ]
  },
  {
   "cell_type": "code",
   "execution_count": 17,
   "id": "0e2273a1-59ad-4c1b-a91b-d0cb5e6e7f9b",
   "metadata": {},
   "outputs": [
    {
     "data": {
      "text/html": [
       "<div>\n",
       "<style scoped>\n",
       "    .dataframe tbody tr th:only-of-type {\n",
       "        vertical-align: middle;\n",
       "    }\n",
       "\n",
       "    .dataframe tbody tr th {\n",
       "        vertical-align: top;\n",
       "    }\n",
       "\n",
       "    .dataframe thead th {\n",
       "        text-align: right;\n",
       "    }\n",
       "</style>\n",
       "<table border=\"1\" class=\"dataframe\">\n",
       "  <thead>\n",
       "    <tr style=\"text-align: right;\">\n",
       "      <th></th>\n",
       "      <th>Alpha</th>\n",
       "      <th>Mkt-RF</th>\n",
       "      <th>SMB</th>\n",
       "      <th>HML</th>\n",
       "      <th>Mom</th>\n",
       "    </tr>\n",
       "  </thead>\n",
       "  <tbody>\n",
       "    <tr>\n",
       "      <th>COF</th>\n",
       "      <td>-0.110593</td>\n",
       "      <td>0.015301</td>\n",
       "      <td>0.016775</td>\n",
       "      <td>0.015109</td>\n",
       "      <td>0.003955</td>\n",
       "    </tr>\n",
       "    <tr>\n",
       "      <th>ECL</th>\n",
       "      <td>-0.114141</td>\n",
       "      <td>0.012791</td>\n",
       "      <td>0.008994</td>\n",
       "      <td>0.004215</td>\n",
       "      <td>0.006167</td>\n",
       "    </tr>\n",
       "    <tr>\n",
       "      <th>EXC</th>\n",
       "      <td>-0.108703</td>\n",
       "      <td>0.009449</td>\n",
       "      <td>0.004577</td>\n",
       "      <td>0.010269</td>\n",
       "      <td>0.008529</td>\n",
       "    </tr>\n",
       "    <tr>\n",
       "      <th>HRB</th>\n",
       "      <td>-0.105120</td>\n",
       "      <td>0.009611</td>\n",
       "      <td>0.011266</td>\n",
       "      <td>0.015862</td>\n",
       "      <td>0.007350</td>\n",
       "    </tr>\n",
       "    <tr>\n",
       "      <th>M</th>\n",
       "      <td>-0.112604</td>\n",
       "      <td>0.019065</td>\n",
       "      <td>0.028613</td>\n",
       "      <td>0.023112</td>\n",
       "      <td>0.008626</td>\n",
       "    </tr>\n",
       "    <tr>\n",
       "      <th>NTRS</th>\n",
       "      <td>-0.120063</td>\n",
       "      <td>0.012586</td>\n",
       "      <td>0.007980</td>\n",
       "      <td>0.010917</td>\n",
       "      <td>0.003597</td>\n",
       "    </tr>\n",
       "    <tr>\n",
       "      <th>O</th>\n",
       "      <td>-0.112165</td>\n",
       "      <td>0.011198</td>\n",
       "      <td>0.006192</td>\n",
       "      <td>0.008549</td>\n",
       "      <td>0.006954</td>\n",
       "    </tr>\n",
       "    <tr>\n",
       "      <th>SBUX</th>\n",
       "      <td>-0.104529</td>\n",
       "      <td>0.011832</td>\n",
       "      <td>0.004862</td>\n",
       "      <td>0.005235</td>\n",
       "      <td>0.003872</td>\n",
       "    </tr>\n",
       "    <tr>\n",
       "      <th>SWK</th>\n",
       "      <td>-0.123231</td>\n",
       "      <td>0.014415</td>\n",
       "      <td>0.009123</td>\n",
       "      <td>0.010087</td>\n",
       "      <td>0.003387</td>\n",
       "    </tr>\n",
       "  </tbody>\n",
       "</table>\n",
       "</div>"
      ],
      "text/plain": [
       "         Alpha    Mkt-RF       SMB       HML       Mom\n",
       "COF  -0.110593  0.015301  0.016775  0.015109  0.003955\n",
       "ECL  -0.114141  0.012791  0.008994  0.004215  0.006167\n",
       "EXC  -0.108703  0.009449  0.004577  0.010269  0.008529\n",
       "HRB  -0.105120  0.009611  0.011266  0.015862  0.007350\n",
       "M    -0.112604  0.019065  0.028613  0.023112  0.008626\n",
       "NTRS -0.120063  0.012586  0.007980  0.010917  0.003597\n",
       "O    -0.112165  0.011198  0.006192  0.008549  0.006954\n",
       "SBUX -0.104529  0.011832  0.004862  0.005235  0.003872\n",
       "SWK  -0.123231  0.014415  0.009123  0.010087  0.003387"
      ]
     },
     "execution_count": 17,
     "metadata": {},
     "output_type": "execute_result"
    }
   ],
   "source": [
    "regresion_df"
   ]
  },
  {
   "cell_type": "markdown",
   "id": "20031dba-f8cd-426a-8c87-010b3487f54f",
   "metadata": {},
   "source": [
    "### 4.1 Calculo R cuadrado\n",
    "\n",
    "Ahora se calculan los $R^{2}$ para los valores $\\alpha$ estimados. Este se calculara a partir de las siguientes cantidades:\n",
    "\n",
    "1. Promedio de el exceso de los retornos $\\overline{R}(t).$\n",
    "2. Suma de cuadrados $SS_{tot}.$\n",
    "3. Suma de cuadrados residual $SS_{res}.$\n",
    "4. $R^{2}$ de la regresión."
   ]
  },
  {
   "cell_type": "markdown",
   "id": "7541b73d-5034-492b-bea9-ce0a2e7af8fb",
   "metadata": {},
   "source": [
    "1. Comenzando por el promedio de los retornos (siguiendo la siguiente definición)\n",
    "$$ \\overline{R}(t) = \\frac{1}{N} \\sum_{i=1}^{N} R_i(t)$$\n",
    "\n",
    "\\begin{equation}\n",
    "\\end{equation}"
   ]
  },
  {
   "cell_type": "code",
   "execution_count": 47,
   "id": "338fb7a9-287e-431d-9e91-0989aff1397d",
   "metadata": {},
   "outputs": [
    {
     "data": {
      "text/plain": [
       "Date\n",
       "2018-06   -0.170934\n",
       "2018-07   -0.105690\n",
       "2018-08   -0.144606\n",
       "2018-09   -0.158030\n",
       "2018-10   -0.218853\n",
       "Freq: M, dtype: float64"
      ]
     },
     "execution_count": 47,
     "metadata": {},
     "output_type": "execute_result"
    }
   ],
   "source": [
    "# retorno medio\n",
    "retorno_medio = ret_rf.mean(axis=1)\n",
    "retorno_medio.head()"
   ]
  },
  {
   "cell_type": "markdown",
   "id": "afa48d13-a6f1-48f9-be49-f46140abfd61",
   "metadata": {},
   "source": [
    "2. Ahora, el calculo de la suma de cuadrados $SS_{tot}$:\n",
    "\n",
    "$$SS_{tot} = \\sum_{i=1}^{N} \\big(R_i(t) - \\overline{R}(t)\\big)^2$$\n",
    "\n",
    "\\begin{equation}\n",
    "\\end{equation}"
   ]
  },
  {
   "cell_type": "code",
   "execution_count": 67,
   "id": "7628c296-4698-43a5-b39a-4e68beee4df3",
   "metadata": {},
   "outputs": [
    {
     "data": {
      "text/plain": [
       "Date\n",
       "2018-06    0.048423\n",
       "2018-07    0.014978\n",
       "2018-08    0.024943\n",
       "2018-09    0.016833\n",
       "2018-10    0.049810\n",
       "Freq: M, dtype: float64"
      ]
     },
     "execution_count": 67,
     "metadata": {},
     "output_type": "execute_result"
    }
   ],
   "source": [
    "ss_tot = pd.DataFrame(((ret_rf.values.T - retorno_medio.values).T)**2, index=ret_rf.index, columns=ret_rf.columns).sum(axis=1).head()\n",
    "ss_tot"
   ]
  },
  {
   "cell_type": "markdown",
   "id": "d45af0f5-f291-4535-bb7c-980adeaa4b8d",
   "metadata": {},
   "source": [
    "3. Luego, se calcula la suma de los cuadrados \n",
    "\n",
    "$$SS_{res} = \\sum_{i=1}^{N} \\epsilon_{i}^{2}(t)$$\n",
    "\n",
    "\\begin{equation}\n",
    "\\end{equation}"
   ]
  },
  {
   "cell_type": "markdown",
   "id": "61f54baa-c536-411a-8a46-1c483b317bbe",
   "metadata": {},
   "source": [
    "4. Y, finalmente el termino $R^{2}$ como sigue:\n",
    "\n",
    "\\begin{equation}\n",
    "    R^{2} = 1 - \\frac{SS_{res}}{SS_{tot}}\n",
    "\\end{equation}\n",
    "\n",
    "\\begin{equation}\n",
    "\\end{equation}"
   ]
  },
  {
   "cell_type": "code",
   "execution_count": 20,
   "id": "21440ea9-c05a-4a4e-a0fd-e2404fb40132",
   "metadata": {},
   "outputs": [
    {
     "data": {
      "application/json": {
       "Software versions": [
        {
         "module": "Python",
         "version": "3.10.9 64bit [MSC v.1916 64 bit (AMD64)]"
        },
        {
         "module": "IPython",
         "version": "8.10.0"
        },
        {
         "module": "OS",
         "version": "Windows 10 10.0.22621 SP0"
        },
        {
         "module": "numpy",
         "version": "1.23.5"
        },
        {
         "module": "scipy",
         "version": "1.10.0"
        },
        {
         "module": "pandas",
         "version": "1.5.3"
        },
        {
         "module": "sklearn",
         "version": "1.2.1"
        }
       ]
      },
      "text/html": [
       "<table><tr><th>Software</th><th>Version</th></tr><tr><td>Python</td><td>3.10.9 64bit [MSC v.1916 64 bit (AMD64)]</td></tr><tr><td>IPython</td><td>8.10.0</td></tr><tr><td>OS</td><td>Windows 10 10.0.22621 SP0</td></tr><tr><td>numpy</td><td>1.23.5</td></tr><tr><td>scipy</td><td>1.10.0</td></tr><tr><td>pandas</td><td>1.5.3</td></tr><tr><td>sklearn</td><td>1.2.1</td></tr><tr><td colspan='2'>Tue Jun 06 11:03:09 2023 Hora est. Pacífico, Sudamérica</td></tr></table>"
      ],
      "text/latex": [
       "\\begin{tabular}{|l|l|}\\hline\n",
       "{\\bf Software} & {\\bf Version} \\\\ \\hline\\hline\n",
       "Python & 3.10.9 64bit [MSC v.1916 64 bit (AMD64)] \\\\ \\hline\n",
       "IPython & 8.10.0 \\\\ \\hline\n",
       "OS & Windows 10 10.0.22621 SP0 \\\\ \\hline\n",
       "numpy & 1.23.5 \\\\ \\hline\n",
       "scipy & 1.10.0 \\\\ \\hline\n",
       "pandas & 1.5.3 \\\\ \\hline\n",
       "sklearn & 1.2.1 \\\\ \\hline\n",
       "\\hline \\multicolumn{2}{|l|}{Tue Jun 06 11:03:09 2023 Hora est. Pacífico, Sudamérica} \\\\ \\hline\n",
       "\\end{tabular}\n"
      ],
      "text/plain": [
       "Software versions\n",
       "Python 3.10.9 64bit [MSC v.1916 64 bit (AMD64)]\n",
       "IPython 8.10.0\n",
       "OS Windows 10 10.0.22621 SP0\n",
       "numpy 1.23.5\n",
       "scipy 1.10.0\n",
       "pandas 1.5.3\n",
       "sklearn 1.2.1\n",
       "Tue Jun 06 11:03:09 2023 Hora est. Pacífico, Sudamérica"
      ]
     },
     "execution_count": 20,
     "metadata": {},
     "output_type": "execute_result"
    }
   ],
   "source": [
    "%load_ext version_information\n",
    "\n",
    "%version_information numpy, scipy, pandas, sklearn"
   ]
  }
 ],
 "metadata": {
  "kernelspec": {
   "display_name": "Python 3 (ipykernel)",
   "language": "python",
   "name": "python3"
  },
  "language_info": {
   "codemirror_mode": {
    "name": "ipython",
    "version": 3
   },
   "file_extension": ".py",
   "mimetype": "text/x-python",
   "name": "python",
   "nbconvert_exporter": "python",
   "pygments_lexer": "ipython3",
   "version": "3.10.9"
  }
 },
 "nbformat": 4,
 "nbformat_minor": 5
}
