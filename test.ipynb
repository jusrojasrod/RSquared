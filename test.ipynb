{
 "cells": [
  {
   "cell_type": "code",
   "execution_count": null,
   "id": "3072d8a6-2394-43dc-8deb-8ae10e0bab60",
   "metadata": {},
   "outputs": [],
   "source": [
    "class WOFPlayer:\n",
    "    def __init__(self, name):\n",
    "        self.name = name\n",
    "        self.prizesMoney = 0\n",
    "        self.prizes = []\n",
    "        \n",
    "    def addMoney(self, amt):\n",
    "        self.prizeMoney = amt"
   ]
  }
 ],
 "metadata": {
  "kernelspec": {
   "display_name": "Python 3 (ipykernel)",
   "language": "python",
   "name": "python3"
  },
  "language_info": {
   "codemirror_mode": {
    "name": "ipython",
    "version": 3
   },
   "file_extension": ".py",
   "mimetype": "text/x-python",
   "name": "python",
   "nbconvert_exporter": "python",
   "pygments_lexer": "ipython3",
   "version": "3.11.5"
  }
 },
 "nbformat": 4,
 "nbformat_minor": 5
}
