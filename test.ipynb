{
 "cells": [
  {
   "cell_type": "code",
   "execution_count": 3,
   "id": "e6b9395b-7ff5-48e3-831d-dc0aa7ebcda5",
   "metadata": {
    "tags": []
   },
   "outputs": [],
   "source": [
    "import pandas_datareader.data as reader    # Para traer la data directamente de la página de Fama-French\n",
    "import pandas as pd\n",
    "import numpy as np\n",
    "import os\n",
    "from datetime import date\n",
    "import yfinance as yf\n",
    "import version_information\n",
    "import matplotlib.pyplot as plt\n"
   ]
  },
  {
   "cell_type": "code",
   "execution_count": 1,
   "id": "e971931e-3c27-43e2-9acb-96f2fed7139c",
   "metadata": {
    "tags": []
   },
   "outputs": [
    {
     "data": {
      "text/plain": [
       "207.95"
      ]
     },
     "execution_count": 1,
     "metadata": {},
     "output_type": "execute_result"
    }
   ],
   "source": [
    "285.43-77.48"
   ]
  },
  {
   "cell_type": "code",
   "execution_count": 4,
   "id": "9cb798f5-f776-4f54-8693-a226bc7dfee3",
   "metadata": {
    "tags": []
   },
   "outputs": [],
   "source": [
    "tlt = yf.Ticker('tlt')"
   ]
  },
  {
   "cell_type": "code",
   "execution_count": 8,
   "id": "e528ff09-737a-4be9-83dc-b53537b7b246",
   "metadata": {
    "tags": []
   },
   "outputs": [
    {
     "data": {
      "text/html": [
       "<div>\n",
       "<style scoped>\n",
       "    .dataframe tbody tr th:only-of-type {\n",
       "        vertical-align: middle;\n",
       "    }\n",
       "\n",
       "    .dataframe tbody tr th {\n",
       "        vertical-align: top;\n",
       "    }\n",
       "\n",
       "    .dataframe thead th {\n",
       "        text-align: right;\n",
       "    }\n",
       "</style>\n",
       "<table border=\"1\" class=\"dataframe\">\n",
       "  <thead>\n",
       "    <tr style=\"text-align: right;\">\n",
       "      <th></th>\n",
       "      <th>Dividends</th>\n",
       "      <th>Stock Splits</th>\n",
       "      <th>Capital Gains</th>\n",
       "    </tr>\n",
       "    <tr>\n",
       "      <th>Date</th>\n",
       "      <th></th>\n",
       "      <th></th>\n",
       "      <th></th>\n",
       "    </tr>\n",
       "  </thead>\n",
       "  <tbody>\n",
       "    <tr>\n",
       "      <th>2002-09-03 00:00:00-04:00</th>\n",
       "      <td>0.373</td>\n",
       "      <td>0.0</td>\n",
       "      <td>0.0</td>\n",
       "    </tr>\n",
       "    <tr>\n",
       "      <th>2002-10-01 00:00:00-04:00</th>\n",
       "      <td>0.343</td>\n",
       "      <td>0.0</td>\n",
       "      <td>0.0</td>\n",
       "    </tr>\n",
       "    <tr>\n",
       "      <th>2002-11-01 00:00:00-05:00</th>\n",
       "      <td>0.389</td>\n",
       "      <td>0.0</td>\n",
       "      <td>0.0</td>\n",
       "    </tr>\n",
       "    <tr>\n",
       "      <th>2002-12-02 00:00:00-05:00</th>\n",
       "      <td>0.389</td>\n",
       "      <td>0.0</td>\n",
       "      <td>0.0</td>\n",
       "    </tr>\n",
       "    <tr>\n",
       "      <th>2002-12-31 00:00:00-05:00</th>\n",
       "      <td>0.446</td>\n",
       "      <td>0.0</td>\n",
       "      <td>0.0</td>\n",
       "    </tr>\n",
       "    <tr>\n",
       "      <th>...</th>\n",
       "      <td>...</td>\n",
       "      <td>...</td>\n",
       "      <td>...</td>\n",
       "    </tr>\n",
       "    <tr>\n",
       "      <th>2023-07-03 00:00:00-04:00</th>\n",
       "      <td>0.278</td>\n",
       "      <td>0.0</td>\n",
       "      <td>0.0</td>\n",
       "    </tr>\n",
       "    <tr>\n",
       "      <th>2023-08-01 00:00:00-04:00</th>\n",
       "      <td>0.275</td>\n",
       "      <td>0.0</td>\n",
       "      <td>0.0</td>\n",
       "    </tr>\n",
       "    <tr>\n",
       "      <th>2023-09-01 00:00:00-04:00</th>\n",
       "      <td>0.289</td>\n",
       "      <td>0.0</td>\n",
       "      <td>0.0</td>\n",
       "    </tr>\n",
       "    <tr>\n",
       "      <th>2023-10-02 00:00:00-04:00</th>\n",
       "      <td>0.280</td>\n",
       "      <td>0.0</td>\n",
       "      <td>0.0</td>\n",
       "    </tr>\n",
       "    <tr>\n",
       "      <th>2023-11-01 00:00:00-04:00</th>\n",
       "      <td>0.286</td>\n",
       "      <td>0.0</td>\n",
       "      <td>0.0</td>\n",
       "    </tr>\n",
       "  </tbody>\n",
       "</table>\n",
       "<p>254 rows × 3 columns</p>\n",
       "</div>"
      ],
      "text/plain": [
       "                           Dividends  Stock Splits  Capital Gains\n",
       "Date                                                             \n",
       "2002-09-03 00:00:00-04:00      0.373           0.0            0.0\n",
       "2002-10-01 00:00:00-04:00      0.343           0.0            0.0\n",
       "2002-11-01 00:00:00-05:00      0.389           0.0            0.0\n",
       "2002-12-02 00:00:00-05:00      0.389           0.0            0.0\n",
       "2002-12-31 00:00:00-05:00      0.446           0.0            0.0\n",
       "...                              ...           ...            ...\n",
       "2023-07-03 00:00:00-04:00      0.278           0.0            0.0\n",
       "2023-08-01 00:00:00-04:00      0.275           0.0            0.0\n",
       "2023-09-01 00:00:00-04:00      0.289           0.0            0.0\n",
       "2023-10-02 00:00:00-04:00      0.280           0.0            0.0\n",
       "2023-11-01 00:00:00-04:00      0.286           0.0            0.0\n",
       "\n",
       "[254 rows x 3 columns]"
      ]
     },
     "execution_count": 8,
     "metadata": {},
     "output_type": "execute_result"
    }
   ],
   "source": [
    "tlt.actions"
   ]
  },
  {
   "cell_type": "code",
   "execution_count": 1,
   "id": "3f0c1cff-c92a-4342-bcbc-664c48c93512",
   "metadata": {
    "tags": []
   },
   "outputs": [],
   "source": [
    "di = [{\"Puppies\": 17, 'Kittens': 9, \"Birds\": 23, 'Fish': 90, \"Hamsters\": 49}, {\"Puppies\": 23, \"Birds\": 29, \"Fish\": 20, \"Mice\": 20, \"Snakes\": 7}, {\"Fish\": 203, \"Hamsters\": 93, \"Snakes\": 25, \"Kittens\": 89}, {\"Birds\": 20, \"Puppies\": 90, \"Snakes\": 21, \"Fish\": 10, \"Kittens\": 67}]"
   ]
  },
  {
   "cell_type": "code",
   "execution_count": 6,
   "id": "2b24210f-ad63-4d34-8bc9-1efbd7d63cd3",
   "metadata": {
    "tags": []
   },
   "outputs": [
    {
     "ename": "KeyError",
     "evalue": "'cal'",
     "output_type": "error",
     "traceback": [
      "\u001b[1;31m---------------------------------------------------------------------------\u001b[0m",
      "\u001b[1;31mKeyError\u001b[0m                                  Traceback (most recent call last)",
      "Cell \u001b[1;32mIn[6], line 1\u001b[0m\n\u001b[1;32m----> 1\u001b[0m di[\u001b[38;5;241m0\u001b[39m][\u001b[38;5;124m'\u001b[39m\u001b[38;5;124mcal\u001b[39m\u001b[38;5;124m'\u001b[39m]\n",
      "\u001b[1;31mKeyError\u001b[0m: 'cal'"
     ]
    }
   ],
   "source": [
    "di[0]['cal']"
   ]
  }
 ],
 "metadata": {
  "kernelspec": {
   "display_name": "Python 3 (ipykernel)",
   "language": "python",
   "name": "python3"
  },
  "language_info": {
   "codemirror_mode": {
    "name": "ipython",
    "version": 3
   },
   "file_extension": ".py",
   "mimetype": "text/x-python",
   "name": "python",
   "nbconvert_exporter": "python",
   "pygments_lexer": "ipython3",
   "version": "3.11.5"
  }
 },
 "nbformat": 4,
 "nbformat_minor": 5
}
