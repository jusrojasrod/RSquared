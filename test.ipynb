{
 "cells": [
  {
   "cell_type": "code",
   "execution_count": 1,
   "id": "3072d8a6-2394-43dc-8deb-8ae10e0bab60",
   "metadata": {
    "tags": []
   },
   "outputs": [],
   "source": [
    "from RSquared.strategy import Strategy\n",
    "from datetime import date"
   ]
  },
  {
   "cell_type": "code",
   "execution_count": 2,
   "id": "fe5337c8-32c3-47cb-b839-db331887e9b8",
   "metadata": {
    "tags": []
   },
   "outputs": [
    {
     "name": "stdout",
     "output_type": "stream",
     "text": [
      "End F-F date: 2023-12-06\n",
      "Start F-F date: 2018-12-06\n"
     ]
    }
   ],
   "source": [
    "test1 = Strategy()\n",
    "print(f\"End F-F date: {test1.endFF_date}\")\n",
    "print(f\"Start F-F date: {test1.startFF_date}\")"
   ]
  },
  {
   "cell_type": "code",
   "execution_count": 3,
   "id": "0c036fec-e307-4408-8933-01451d90cd54",
   "metadata": {},
   "outputs": [
    {
     "name": "stdout",
     "output_type": "stream",
     "text": [
      "Test passed!\n",
      "End F-F date: 2022-01-01\n"
     ]
    }
   ],
   "source": [
    "# Test factors_end_date\n",
    "test1.factors_end_date = date(2022, 1, 1)\n",
    "assert test1.endFF_date == date(2022, 1, 1)\n",
    "print(\"Test passed!\")\n",
    "print(f\"End F-F date: {test1.endFF_date}\")"
   ]
  },
  {
   "cell_type": "code",
   "execution_count": 4,
   "id": "4d9bc86e-ab0e-456b-bc68-58cc2b545a01",
   "metadata": {
    "tags": []
   },
   "outputs": [
    {
     "name": "stdout",
     "output_type": "stream",
     "text": [
      "Test passed!\n",
      "Start F-F date: 2020-01-01\n"
     ]
    }
   ],
   "source": [
    "# Test factors_start_date\n",
    "test1.factors_start_date = date(2020, 1, 1)\n",
    "assert test1.startFF_date == date(2020, 1, 1)\n",
    "print(\"Test passed!\")\n",
    "print(f\"Start F-F date: {test1.startFF_date}\")"
   ]
  }
 ],
 "metadata": {
  "kernelspec": {
   "display_name": "Python 3 (ipykernel)",
   "language": "python",
   "name": "python3"
  },
  "language_info": {
   "codemirror_mode": {
    "name": "ipython",
    "version": 3
   },
   "file_extension": ".py",
   "mimetype": "text/x-python",
   "name": "python",
   "nbconvert_exporter": "python",
   "pygments_lexer": "ipython3",
   "version": "3.11.5"
  }
 },
 "nbformat": 4,
 "nbformat_minor": 5
}
